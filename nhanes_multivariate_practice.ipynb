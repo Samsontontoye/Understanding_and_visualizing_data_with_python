{
 "cells": [
  {
   "cell_type": "markdown",
   "id": "b53c6606",
   "metadata": {},
   "source": [
    "# Practice notebook for multivariate analysis using NHANES data\n",
    "\n",
    "This notebook will give you the opportunity to perform some multivariate analyses on your own using the NHANES study data.  These analyses are similar to what was done in the week 3 NHANES case study notebook.\n",
    "\n",
    "You can enter your code into the cells that say \"enter your code here\", and you can type responses to the questions into the cells that say \"Type Markdown and Latex\".\n",
    "\n",
    "Note that most of the code that you will need to write below is very similar to code that appears in the case study notebook.  You will need to edit code from that notebook in small ways to adapt it to the prompts below.\n",
    "\n",
    "To get started, we will use the same module imports and read the data in the same way as we did in the case study:"
   ]
  },
  {
   "cell_type": "code",
   "execution_count": null,
   "id": "ee02a384",
   "metadata": {},
   "outputs": [],
   "source": [
    "%matplotlib inline\n",
    "import matplotlib.pyplot as plt\n",
    "import seaborn as sns\n",
    "import pandas as pd\n",
    "import statsmodels.api as sm\n",
    "import numpy as np\n",
    "from scipy import stats\n",
    "\n",
    "da = pd.read_csv(\"nhanes_2015_2016.csv\")\n",
    "da.columns"
   ]
  },
  {
   "cell_type": "markdown",
   "id": "34da5e77",
   "metadata": {},
   "source": [
    "## Question 1\n",
    "\n",
    "Make a scatterplot showing the relationship between the first and second measurements of diastolic blood pressure ([BPXDI1](https://wwwn.cdc.gov/Nchs/Nhanes/2015-2016/BPX_I.htm#BPXDI1) and [BPXDI2](https://wwwn.cdc.gov/Nchs/Nhanes/2015-2016/BPX_I.htm#BPXDI2)).  Also obtain the 4x4 matrix of correlation coefficients among the first two systolic and the first two diastolic blood pressure measures."
   ]
  },
  {
   "cell_type": "code",
   "execution_count": null,
   "id": "bb8003c9",
   "metadata": {},
   "outputs": [],
   "source": [
    "# enter your code here\n",
    "sns.regplot(x='BPXDI1', y='BPXDI2', data=da, fit_reg=False, scatter_kws={'alpha': 0.2});"
   ]
  },
  {
   "cell_type": "code",
   "execution_count": null,
   "id": "62d18662",
   "metadata": {},
   "outputs": [],
   "source": [
    "sns.jointplot(x='BPXSY1', y='BPXDI1', data=da, kind='kde').annotate(stats.pearsonr);"
   ]
  },
  {
   "cell_type": "code",
   "execution_count": null,
   "id": "fb372610",
   "metadata": {},
   "outputs": [],
   "source": [
    "sns.jointplot(x='BPXSY2', y='BPXDI2', data=da, kind='kde').annotate(stats.pearsonr);"
   ]
  },
  {
   "cell_type": "code",
   "execution_count": null,
   "id": "a40bb529",
   "metadata": {},
   "outputs": [],
   "source": [
    "sns.jointplot(x='BPXSY1', y='BPXSY2', data=da, kind='kde').annotate(stats.pearsonr);"
   ]
  },
  {
   "cell_type": "code",
   "execution_count": null,
   "id": "d2f31bbf",
   "metadata": {},
   "outputs": [],
   "source": [
    "sns.jointplot(x='BPXDI1', y='BPXDI2', data=da, kind='kde').annotate(stats.pearsonr);"
   ]
  },
  {
   "cell_type": "markdown",
   "id": "3f13b909",
   "metadata": {},
   "source": [
    "__Q1a.__ How does the correlation between repeated measurements of diastolic blood pressure relate to the correlation between repeated measurements of systolic blood pressure?"
   ]
  },
  {
   "cell_type": "markdown",
   "id": "add3ee20",
   "metadata": {},
   "source": [
    "The correlation betweeen the repeated measurements of the diastolic blood pressure and systolic blood pressure are weakly correlated. The correlation coefficient of the first diastolic blood pressure and the first systolic blood pressure is around 0.32 indicating that some people have unusually high systolic blood pressure but have average diastolic blood pressure. The correlation coefficient of the second diastolic blood pressure and the second systolic blood pressure is around 0.30 indicating that some people have unusually high systolic blood pressure but have average diastolic blood pressure."
   ]
  },
  {
   "cell_type": "markdown",
   "id": "89082c7c",
   "metadata": {},
   "source": [
    "__Q1b.__ Are the second systolic and second diastolic blood pressure measure more correlated or less correlated than the first systolic and first diastolic blood pressure measure?"
   ]
  },
  {
   "cell_type": "markdown",
   "id": "f2807746",
   "metadata": {},
   "source": [
    "The second systolic and second diastolic blood pressure measurement are less correlated than the first systolic and first diastolic blood pressure measurement."
   ]
  },
  {
   "cell_type": "markdown",
   "id": "a674617d",
   "metadata": {},
   "source": [
    "## Question 2\n",
    "\n",
    "Construct a grid of scatterplots between the first systolic and the first diastolic blood pressure measurement.  Stratify the plots by gender (rows) and by race/ethnicity groups (columns)."
   ]
  },
  {
   "cell_type": "code",
   "execution_count": null,
   "id": "c89fdefd",
   "metadata": {},
   "outputs": [],
   "source": [
    "# insert your code here\n",
    "sns.FacetGrid(da).map(plt.scatter, 'BPXSY1', 'BPXDI1', alpha=0.4).add_legend()"
   ]
  },
  {
   "cell_type": "code",
   "execution_count": null,
   "id": "83e17421",
   "metadata": {},
   "outputs": [],
   "source": [
    "da['RIAGENDRx']=da.RIAGENDR.replace({1:'Male', 2:'Female'})\n",
    "_=sns.FacetGrid(da, col=\"RIDRETH1\", row='RIAGENDRx').map(plt.scatter, 'BPXSY1', 'BPXDI1', alpha=0.5).add_legend()"
   ]
  },
  {
   "cell_type": "markdown",
   "id": "a46c3028",
   "metadata": {},
   "source": [
    "__Q2a.__ Comment on the extent to which these two blood pressure variables are correlated to different degrees in different demographic subgroups."
   ]
  },
  {
   "cell_type": "markdown",
   "id": "7d79ef3d",
   "metadata": {},
   "source": [
    "These scatterplots reveal differences in the means as well differences in the degree of association (correlation) between different pairs of variables.  We see that although some ethnic groups tend to have higher blood pressure than others, the relationship between systolic and diastolic blood pressure within genders is roughly similar across the ethnic groups.  "
   ]
  },
  {
   "cell_type": "markdown",
   "id": "ac813b6e",
   "metadata": {},
   "source": [
    "## Question 3\n",
    "\n",
    "Use \"violin plots\" to compare the distributions of ages within groups defined by gender and educational attainment."
   ]
  },
  {
   "cell_type": "code",
   "execution_count": null,
   "id": "fb509a8d",
   "metadata": {},
   "outputs": [],
   "source": [
    "# insert your code here\n",
    "plt.figure(figsize=(12, 4))\n",
    "da['DMDEDUC2x']=da.DMDEDUC2.replace({1:'less than 9th grade', 2:'9-11 grade', 3:'HS/GED', 4:'Some col/AA', 5:'College Graduate', 7:'Refused', 9:'DK'})\n",
    "a=sns.violinplot(da.DMDEDUC2x, da.RIDAGEYR)"
   ]
  },
  {
   "cell_type": "code",
   "execution_count": null,
   "id": "8f9a6969",
   "metadata": {},
   "outputs": [],
   "source": [
    "plt.figure(figsize=(12, 4))\n",
    "b=sns.violinplot(da.RIAGENDRx, da.RIDAGEYR)"
   ]
  },
  {
   "cell_type": "markdown",
   "id": "9256a272",
   "metadata": {},
   "source": [
    "__Q3a.__ Comment on any evident differences among the age distributions in the different demographic groups."
   ]
  },
  {
   "cell_type": "markdown",
   "id": "35496c1d",
   "metadata": {},
   "source": [
    "The distributions for the age and educational attainment violinplot have intermediate mean values and are approximately symmetrically distributed. The mean for less than 9th grade seems to be higher than the other means except DK. The distribution for the age and gender violinplot have intermediate means and are approximately symmeterically distributed and the shape is unimodal."
   ]
  },
  {
   "cell_type": "markdown",
   "id": "96fc32fd",
   "metadata": {},
   "source": [
    "## Question 4\n",
    "\n",
    "Use violin plots to compare the distributions of BMI within a series of 10-year age bands.  Also stratify these plots by gender."
   ]
  },
  {
   "cell_type": "code",
   "execution_count": null,
   "id": "49ce9111",
   "metadata": {},
   "outputs": [],
   "source": [
    "# insert your code here\n",
    "plt.figure(figsize=(12, 4))\n",
    "da[\"agegrp\"] = pd.cut(da.RIDAGEYR, [18, 30, 40, 50, 60, 70, 80])\n",
    "c=sns.violinplot(da['agegrp'], da.BMXBMI)"
   ]
  },
  {
   "cell_type": "code",
   "execution_count": null,
   "id": "8e9f8b4b",
   "metadata": {},
   "outputs": [],
   "source": [
    "plt.figure(figsize=(12, 4))\n",
    "b=sns.violinplot(da.RIAGENDRx, da.BMXBMI)"
   ]
  },
  {
   "cell_type": "markdown",
   "id": "50031afe",
   "metadata": {},
   "source": [
    "__Q4a.__ Comment on the trends in BMI across the demographic groups."
   ]
  },
  {
   "cell_type": "markdown",
   "id": "7a9fc5b8",
   "metadata": {},
   "source": [
    "In the BMI within a series of 10 year age bands, we can see quite clearly that the distributions have intermediate mean values and are strongly right-skewed. In the age and BMI violinplot, the plots have intermediate mean values and are mostly right-skewed."
   ]
  },
  {
   "cell_type": "markdown",
   "id": "4bfd48a6",
   "metadata": {},
   "source": [
    "## Question 5\n",
    "\n",
    "Construct a frequency table for the joint distribution of ethnicity groups ([RIDRETH1](https://wwwn.cdc.gov/Nchs/Nhanes/2015-2016/DEMO_I.htm#RIDRETH1)) and health-insurance status ([HIQ210](https://wwwn.cdc.gov/Nchs/Nhanes/2015-2016/HIQ_I.htm#HIQ210)).  Normalize the results so that the values within each ethnic group are proportions that sum to 1."
   ]
  },
  {
   "cell_type": "code",
   "execution_count": null,
   "id": "b82b0e4e",
   "metadata": {},
   "outputs": [],
   "source": [
    "da.groupby('RIDRETH1')['HIQ210'].value_counts()"
   ]
  },
  {
   "cell_type": "code",
   "execution_count": null,
   "id": "b70bf756",
   "metadata": {},
   "outputs": [],
   "source": [
    "# insert your code here\n",
    "dx = da.loc[~da.DMDEDUC2x.isin([\"Don't know\", \"Missing\"]), :] \n",
    "dx = dx.groupby(['RIDRETH1'])['HIQ210']\n",
    "dx = dx.value_counts()\n",
    "dx = dx.unstack()\n",
    "dx = dx.apply(lambda x: x/x.sum(), axis=1)\n",
    "print(dx.to_string(float_format='%.3f'))"
   ]
  },
  {
   "cell_type": "markdown",
   "id": "f04e185b",
   "metadata": {},
   "source": [
    "__Q5a.__ Which ethnic group has the highest rate of being uninsured in the past year?"
   ]
  },
  {
   "cell_type": "markdown",
   "id": "11028f6e",
   "metadata": {},
   "source": [
    "Mexican Americans had the highest rate of being uninsured in the past year."
   ]
  }
 ],
 "metadata": {
  "kernelspec": {
   "display_name": "Python 3",
   "language": "python",
   "name": "python3"
  },
  "language_info": {
   "codemirror_mode": {
    "name": "ipython",
    "version": 3
   },
   "file_extension": ".py",
   "mimetype": "text/x-python",
   "name": "python",
   "nbconvert_exporter": "python",
   "pygments_lexer": "ipython3",
   "version": "3.8.8"
  }
 },
 "nbformat": 4,
 "nbformat_minor": 5
}
