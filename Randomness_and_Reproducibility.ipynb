{
 "cells": [
  {
   "cell_type": "markdown",
   "id": "7b0f1074",
   "metadata": {},
   "source": [
    "# Randomness and Reproducibility\n",
    "\n",
    "As we learned in the beginning of this week, the concept of randomness is a cornerstone for statistical inference when drawing samples from larger populations.\n",
    "\n",
    "In this tutorial, we are going to cover the following:\n",
    "\n",
    "* Randomness and its uses in python.\n",
    "\n",
    "* Utilizing python seeds to reproduce analysis.\n",
    "\n",
    "* Generating random variables from a probability distribution.\n",
    "\n",
    "* Random sampling from a population.\n",
    "\n",
    "\n",
    "## What is Randomness?\n",
    "\n",
    "In the beginning of this week's lectures, we touched on the significance of randomness when it comes to performing statistical inference on population samples.  If we have complete randomness, our estimates of means, proportions, and totals are unbiased.  This means our estimates are equal to the population values on average. \n",
    "\n",
    "In Python, we refer to randomness as the ability to generate data, strings, or, more generally, numbers at random.\n",
    "\n",
    "However, when conducting analysis it is important to consider reproducibility.  If we are creating random data, how can we enable reproducible analysis?\n",
    "\n",
    "We do this by utilizing pseudo-random number generators (PRNGs).  PRNGs start with a random number, known as the seed, and then use an algorithm to generate a psuedo-random sequence based on it.\n",
    "\n",
    "This means that we can replicate the output of a random number generator in python simply by knowing which seed was used.\n",
    "\n",
    "We can showcase this by using the functions in the python library *__random__*.\n",
    "\n",
    "### Setting a Seed and Generating Random Numbers"
   ]
  },
  {
   "cell_type": "code",
   "execution_count": 1,
   "id": "2a3529fb",
   "metadata": {},
   "outputs": [],
   "source": [
    "import random"
   ]
  },
  {
   "cell_type": "code",
   "execution_count": 5,
   "id": "b8e451e7",
   "metadata": {},
   "outputs": [
    {
     "data": {
      "text/plain": [
       "0.9664535356921388"
      ]
     },
     "execution_count": 5,
     "metadata": {},
     "output_type": "execute_result"
    }
   ],
   "source": [
    "random.seed(1234)\n",
    "random.random()"
   ]
  },
  {
   "cell_type": "markdown",
   "id": "d5dd9e4f",
   "metadata": {},
   "source": [
    "### Random Numbers from Real-Valued Distributions \n",
    "#### Uniform"
   ]
  },
  {
   "cell_type": "code",
   "execution_count": 32,
   "id": "d05aefae",
   "metadata": {},
   "outputs": [
    {
     "data": {
      "text/plain": [
       "29.909365637717407"
      ]
     },
     "execution_count": 32,
     "metadata": {},
     "output_type": "execute_result"
    }
   ],
   "source": [
    "random.uniform(25, 50)"
   ]
  },
  {
   "cell_type": "code",
   "execution_count": 28,
   "id": "b0566e31",
   "metadata": {},
   "outputs": [
    {
     "data": {
      "text/plain": [
       "[0.2629224936999284,\n",
       " 0.40431627520708735,\n",
       " 0.8785082329020566,\n",
       " 0.4815236760665751,\n",
       " 0.5038024407216545,\n",
       " 0.8713869892455516,\n",
       " 0.16399809658478082,\n",
       " 0.060526811282535675,\n",
       " 0.3200795194738256,\n",
       " 0.243631119510334,\n",
       " 0.4990164378657712,\n",
       " 0.0567071494084348,\n",
       " 0.6444062973203962,\n",
       " 0.1945057122664846,\n",
       " 0.2735630362182374,\n",
       " 0.9155964591582622,\n",
       " 0.04443099058317357,\n",
       " 0.19240608461810715,\n",
       " 0.607077645210688,\n",
       " 0.44044564261768526]"
      ]
     },
     "execution_count": 28,
     "metadata": {},
     "output_type": "execute_result"
    }
   ],
   "source": [
    "unifNumbers = [random.uniform(0, 1) for i in range(20)]\n",
    "unifNumbers"
   ]
  },
  {
   "cell_type": "markdown",
   "id": "f8287ba3",
   "metadata": {},
   "source": [
    "### Normal"
   ]
  },
  {
   "cell_type": "code",
   "execution_count": 13,
   "id": "bebf6434",
   "metadata": {},
   "outputs": [
    {
     "data": {
      "text/plain": [
       "-0.8763972017218918"
      ]
     },
     "execution_count": 13,
     "metadata": {},
     "output_type": "execute_result"
    }
   ],
   "source": [
    "mu = 0\n",
    "sigma = 1\n",
    "\n",
    "random.normalvariate(mu, sigma) # mu is the mean, sigma is the standard deviation"
   ]
  },
  {
   "cell_type": "code",
   "execution_count": 15,
   "id": "83bab2a5",
   "metadata": {},
   "outputs": [
    {
     "data": {
      "text/plain": [
       "5.947963654950102"
      ]
     },
     "execution_count": 15,
     "metadata": {},
     "output_type": "execute_result"
    }
   ],
   "source": [
    "mu = 5\n",
    "sigma = 2\n",
    "\n",
    "random.normalvariate(mu, sigma)"
   ]
  },
  {
   "cell_type": "code",
   "execution_count": 16,
   "id": "0cb4f1bf",
   "metadata": {},
   "outputs": [
    {
     "data": {
      "text/plain": [
       "[-0.12871044907208634,\n",
       " -0.4176409768485201,\n",
       " 1.8523059943702578,\n",
       " 0.8180674171976724,\n",
       " 0.5398103076698806,\n",
       " 0.7701608602730478,\n",
       " 0.27207054721100743,\n",
       " 1.2907993679226342,\n",
       " 0.5180907133221518,\n",
       " -0.1476463683352946,\n",
       " 1.3792384398637578,\n",
       " -1.1829559862819912,\n",
       " 0.19292840246120663,\n",
       " -0.2931465899734277,\n",
       " -1.3077456100393858,\n",
       " -0.4714951977339859,\n",
       " -0.15815627713773694,\n",
       " 0.4335093224825212,\n",
       " -1.4408548056756927,\n",
       " 1.5725681332501447]"
      ]
     },
     "execution_count": 16,
     "metadata": {},
     "output_type": "execute_result"
    }
   ],
   "source": [
    "mu = 0\n",
    "sigma = 1\n",
    "\n",
    "[random.normalvariate(mu, sigma) for i in range(20)]"
   ]
  },
  {
   "cell_type": "markdown",
   "id": "6028fb13",
   "metadata": {},
   "source": [
    "### Random Sampling from a Population\n",
    "\n",
    "From lecture, we know that **Simple Random Sampling (SRS)** has the following properties:\n",
    "\n",
    "* Start with known list of *N* population units, and randomly select *n* units from the list\n",
    "* Every unit has **equal probability of selection = _n/N_**\n",
    "* All possible samples of size *n* are equaly likely\n",
    "* Estimates of means, proportions, and totals based on SRS are **UNBIASED** (meaning they are equal to the population values on average)"
   ]
  },
  {
   "cell_type": "code",
   "execution_count": 17,
   "id": "78294bae",
   "metadata": {},
   "outputs": [],
   "source": [
    "import random\n",
    "import numpy as np"
   ]
  },
  {
   "cell_type": "code",
   "execution_count": 44,
   "id": "b68f155b",
   "metadata": {},
   "outputs": [],
   "source": [
    "mu = 0\n",
    "sigma = 1\n",
    "\n",
    "population = [random.normalvariate(mu, sigma) for i in range(10000)]"
   ]
  },
  {
   "cell_type": "code",
   "execution_count": 45,
   "id": "e8776d2f",
   "metadata": {},
   "outputs": [],
   "source": [
    "SampleA = random.sample(population, 500)\n",
    "SampleB =random.sample(population, 500)"
   ]
  },
  {
   "cell_type": "code",
   "execution_count": 46,
   "id": "79e6201d",
   "metadata": {},
   "outputs": [
    {
     "data": {
      "text/plain": [
       "-0.018892806746763677"
      ]
     },
     "execution_count": 46,
     "metadata": {},
     "output_type": "execute_result"
    }
   ],
   "source": [
    "np.mean(SampleA)"
   ]
  },
  {
   "cell_type": "code",
   "execution_count": 47,
   "id": "92ce0133",
   "metadata": {},
   "outputs": [
    {
     "data": {
      "text/plain": [
       "1.0237659684635108"
      ]
     },
     "execution_count": 47,
     "metadata": {},
     "output_type": "execute_result"
    }
   ],
   "source": [
    "np.std(SampleA)"
   ]
  },
  {
   "cell_type": "code",
   "execution_count": 48,
   "id": "a1c9cd59",
   "metadata": {},
   "outputs": [
    {
     "data": {
      "text/plain": [
       "0.03132441051442236"
      ]
     },
     "execution_count": 48,
     "metadata": {},
     "output_type": "execute_result"
    }
   ],
   "source": [
    "np.mean(SampleB)"
   ]
  },
  {
   "cell_type": "code",
   "execution_count": 49,
   "id": "59c8da62",
   "metadata": {},
   "outputs": [
    {
     "data": {
      "text/plain": [
       "0.9858628546573049"
      ]
     },
     "execution_count": 49,
     "metadata": {},
     "output_type": "execute_result"
    }
   ],
   "source": [
    "np.std(SampleB)"
   ]
  },
  {
   "cell_type": "code",
   "execution_count": 58,
   "id": "2a3633e2",
   "metadata": {},
   "outputs": [
    {
     "data": {
      "text/plain": [
       "-0.012268511105181054"
      ]
     },
     "execution_count": 58,
     "metadata": {},
     "output_type": "execute_result"
    }
   ],
   "source": [
    "means = [np.mean(random.sample(population, 1000)) for i in range(100)]\n",
    "np.mean(means)"
   ]
  },
  {
   "cell_type": "code",
   "execution_count": 59,
   "id": "b79b730c",
   "metadata": {},
   "outputs": [
    {
     "data": {
      "text/plain": [
       "1.0077730737736976"
      ]
     },
     "execution_count": 59,
     "metadata": {},
     "output_type": "execute_result"
    }
   ],
   "source": [
    "standarddevs = [np.std(random.sample(population, 1000)) for i in range(100)]\n",
    "np.mean(standarddevs)"
   ]
  },
  {
   "cell_type": "code",
   "execution_count": null,
   "id": "d31d07cf",
   "metadata": {},
   "outputs": [],
   "source": []
  }
 ],
 "metadata": {
  "kernelspec": {
   "display_name": "Python 3",
   "language": "python",
   "name": "python3"
  },
  "language_info": {
   "codemirror_mode": {
    "name": "ipython",
    "version": 3
   },
   "file_extension": ".py",
   "mimetype": "text/x-python",
   "name": "python",
   "nbconvert_exporter": "python",
   "pygments_lexer": "ipython3",
   "version": "3.8.8"
  }
 },
 "nbformat": 4,
 "nbformat_minor": 5
}
