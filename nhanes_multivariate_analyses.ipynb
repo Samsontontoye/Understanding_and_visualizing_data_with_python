{
 "cells": [
  {
   "cell_type": "markdown",
   "id": "5f745242",
   "metadata": {},
   "source": [
    "## Analysis of multivariate data - NHANES case study\n",
    "\n",
    "In this notebook, we illustrate several basic techniques for exploring data using methods for understanding multivariate relationships.  The statistical methods discussed here will parallel the methods discussed in the multivariate methods section of the course, and build on the univariate analysis discussed earlier.  As with the univariate notebook, we use here the 2015-2016 wave of the [NHANES](https://www.cdc.gov/nchs/nhanes/index.htm) study for illustration.\n",
    "\n",
    "Many of the analyses presented in this notebook use the Matplotlib and Seaborn libraries for data visualization.  These are very powerful tools that give you a vast number of options when constructing plots.  We will not explain every option to every function in the examples below. You can use the [Matplotlib](https://matplotlib.org/users/index.html) and [Seaborn](https://seaborn.pydata.org/tutorial.html) documentation to fully understand the options, and you can experiment with these and other plots on your own to get a better sense of what can be done.   "
   ]
  },
  {
   "cell_type": "code",
   "execution_count": 1,
   "id": "f8f715a7",
   "metadata": {},
   "outputs": [],
   "source": [
    "%matplotlib inline\n",
    "import matplotlib.pyplot as plt\n",
    "import seaborn as sns\n",
    "import pandas as pd\n",
    "import numpy as np\n",
    "from scipy import stats"
   ]
  },
  {
   "cell_type": "markdown",
   "id": "ada88fe8",
   "metadata": {},
   "source": [
    "Next we load the NHANES data, just as we did for the univariate analyes."
   ]
  },
  {
   "cell_type": "code",
   "execution_count": null,
   "id": "4d74047b",
   "metadata": {},
   "outputs": [],
   "source": [
    "da = pd.read_csv(\"nhanes_2015_2016.csv\")"
   ]
  },
  {
   "cell_type": "markdown",
   "id": "e8815741",
   "metadata": {},
   "source": [
    "### Quantitative bivariate data\n",
    "\n",
    "Bivariate data arise when every \"unit of analysis\" (e.g. a person in the NHANES dataset) is assessed with respect to two traits (the NHANES subjects were assessed for many more than two traits, but we can consider two traits at a time here).  \n",
    "\n",
    "A scatterplot is a very common and easily-understood visualization of quantitative bivariate data.  Below we make a scatterplot of arm length against leg length.  This means that arm length ([BMXARML](https://wwwn.cdc.gov/Nchs/Nhanes/2015-2016/BMX_I.htm#BMXARML)) is plotted on the vertical axis and leg length ([BMXLEG](https://wwwn.cdc.gov/Nchs/Nhanes/2015-2016/BMX_I.htm#BMXLEG)) is plotted on the horizontal axis).  We see a positive dependence between the two measures -- people with longer arms tend to have longer legs, and vice-versa.  However it is far from a perfect relationship.\n",
    "\n",
    "In a scatterplot with more than around 100 points, \"overplotting\" becomes an issue.  This means that many points fall on top of each other in the plot, which obscures relationships in the middle of the distribution and over-emphasizes the extremes.  One way to mitigate overplotting is to use an \"alpha\" channel to make the points semi-transparent, as we have done below."
   ]
  },
  {
   "cell_type": "code",
   "execution_count": null,
   "id": "2a3a58f4",
   "metadata": {},
   "outputs": [],
   "source": [
    "sns.regplot(x=\"BMXLEG\", y=\"BMXARML\", data=da, fit_reg=False, scatter_kws={\"alpha\": 0.2})"
   ]
  },
  {
   "cell_type": "markdown",
   "id": "545eff13",
   "metadata": {},
   "source": [
    "Another way to avoid overplotting is to make a plot of the \"density\" of points.  In the plots below, darker colors indicate where a greater number of points fall.  The two plot margins show the densities for the arm lengths and leg lengths separately, while the plot in the center shows their density jointly.\n",
    "\n",
    "This plot also shows the Pearson correlation coefficient between the arm length and leg length, which is 0.62.  As discussed in the course, the Pearson correlation coefficient ranges from -1 to 1, with values approaching 1 indicating a more perfect positive dependence.  In many settings, a correlation of 0.62 would be considered a moderately strong positive dependence."
   ]
  },
  {
   "cell_type": "code",
   "execution_count": null,
   "id": "fcee30f4",
   "metadata": {},
   "outputs": [],
   "source": [
    "#ignore deprecation warning message\n",
    "sns.jointplot(x=\"BMXLEG\", y=\"BMXARML\", kind='kde', data=da).annotate(stats.pearsonr)"
   ]
  },
  {
   "cell_type": "markdown",
   "id": "eeda8e65",
   "metadata": {},
   "source": [
    "As another example with slightly different behavior, we see that systolic and diastolic blood pressure (essentially the maximum and minimum blood pressure between two consecutive heart beats) are more weakly correlated than arm and leg length, with a correlation coefficient of 0.32.  This weaker correlation indicates that some people have unusually high systolic blood pressure but have average diastolic blood pressure, and vice versa."
   ]
  },
  {
   "cell_type": "code",
   "execution_count": null,
   "id": "937bb740",
   "metadata": {},
   "outputs": [],
   "source": [
    "#ignore deprecation warning message\n",
    "sns.jointplot(x=\"BPXSY1\", y=\"BPXDI1\", kind='kde', data=da).annotate(stats.pearsonr)"
   ]
  },
  {
   "cell_type": "markdown",
   "id": "50e10bfa",
   "metadata": {},
   "source": [
    "Next we look at two repeated measures of systolic blood pressure, taken a few minutes apart on the same person.  These values are very highly correlated, with a correlation coefficient of around 0.96."
   ]
  },
  {
   "cell_type": "code",
   "execution_count": null,
   "id": "bcd61f6a",
   "metadata": {},
   "outputs": [],
   "source": [
    "#ignore deprecation warning message\n",
    "jp = sns.jointplot(x=\"BPXSY1\", y=\"BPXSY2\", kind='kde', data=da).annotate(stats.pearsonr)"
   ]
  },
  {
   "cell_type": "markdown",
   "id": "a00f3558",
   "metadata": {},
   "source": [
    "### Heterogeneity and stratification\n",
    "\n",
    "Most human characteristics are complex -- they vary by gender, age, ethnicity, and other factors.  This type of variation is often referred to as \"heterogeneity\".  When such heterogeneity is present, it is usually productive to explore the data more deeply by stratifying on relevant factors, as we did in the univariate analyses.  \n",
    "\n",
    "Below, we continue to probe the relationship between leg length and arm length, stratifying first by gender, then by gender and ethnicity. The gender-stratified plot indicates that men tend to have somewhat longer arms and legs than women -- this is reflected in the fact that the cloud of points on the left is shifted slightly up and to the right relative to the cloud of points on the right.  In addition, the correlation between arm length and leg length appears to be somewhat weaker in women than in men."
   ]
  },
  {
   "cell_type": "code",
   "execution_count": null,
   "id": "e9386c34",
   "metadata": {},
   "outputs": [],
   "source": [
    "da[\"RIAGENDRx\"] = da.RIAGENDR.replace({1: \"Male\", 2: \"Female\"}) \n",
    "sns.FacetGrid(da, col=\"RIAGENDRx\").map(plt.scatter, \"BMXLEG\", \"BMXARML\", alpha=0.4).add_legend()"
   ]
  },
  {
   "cell_type": "markdown",
   "id": "ae1f2fee",
   "metadata": {},
   "source": [
    "Consistent with the scatterplot, a slightly weaker correlation between arm length and leg length in women (compared to men) can be seen by calculating the correlation coefficient separately within each gender.  \n",
    "\n",
    "The '`corr`' method of a dataframe calculates the correlation coefficients for every pair of variables in the dataframe.  This method returns a \"correlation matrix\", which is a table containing the correlations between every pair of variables in the data set.  Note that the diagonal of a correlation matrix always contains 1's, since a variable always has correlation 1 with itself.  The correlation matrix is also symmetric around this diagonal, since the correlation between two variables '`X`' and '`Y`' does not depend on the order in which we consider the two variables.  \n",
    "\n",
    "In the results below, we see that the correlation between leg length and arm length in men is 0.50, while in women the correlation is 0.43."
   ]
  },
  {
   "cell_type": "code",
   "execution_count": null,
   "id": "0ca16803",
   "metadata": {},
   "outputs": [],
   "source": [
    "print(da.loc[da.RIAGENDRx==\"Female\", [\"BMXLEG\", \"BMXARML\"]].dropna().corr())\n",
    "print(da.loc[da.RIAGENDRx==\"Male\", [\"BMXLEG\", \"BMXARML\"]].dropna().corr())"
   ]
  },
  {
   "cell_type": "markdown",
   "id": "db706f44",
   "metadata": {},
   "source": [
    "Next we look to stratifying the data by both gender and ethnicity.  This results in 2 x 5 = 10 total strata, since there are 2 gender strata and 5 ethnicity strata. These scatterplots reveal differences in the means as well a diffrences in the degree of association (correlation) between different pairs of variables.  We see that although some ethnic groups tend to have longer/shorter arms and legs than others, the relationship between arm length and leg length within genders is roughly similar across the ethnic groups.  \n",
    "\n",
    "One notable observation is that ethnic group 5, which consists of people who report being multi-racial or are of any race not treated as a separate group (due to small sample size), the correlation between arm length and leg length is stronger, especially for men.  This is not surprising, as greater heterogeneity can allow correlations to emerge that are indiscernible in more homogeneous data.   "
   ]
  },
  {
   "cell_type": "code",
   "execution_count": null,
   "id": "c8f2da12",
   "metadata": {},
   "outputs": [],
   "source": [
    "_ = sns.FacetGrid(da, col=\"RIDRETH1\",  row=\"RIAGENDRx\").map(plt.scatter, \"BMXLEG\", \"BMXARML\", alpha=0.5).add_legend()"
   ]
  },
  {
   "cell_type": "markdown",
   "id": "cfefdbfa",
   "metadata": {},
   "source": [
    "### Categorical bivariate data\n",
    "\n",
    "In this section we discuss some methods for working with bivariate data that are categorical.  We can start with a contingency table, which counts the number of people having each combination of two factors.  To illustrate, we will consider the NHANES variables for marital status and education level.\n",
    "\n",
    "First, we create new versions of these two variables using text labels instead of numbers to represent the categories.  We also create a new data set that omits people who responded \"Don't know\" or who refused to answer these questions."
   ]
  },
  {
   "cell_type": "code",
   "execution_count": null,
   "id": "2917409f",
   "metadata": {},
   "outputs": [],
   "source": [
    "da[\"DMDEDUC2x\"] = da.DMDEDUC2.replace({1: \"<9\", 2: \"9-11\", 3: \"HS/GED\", 4: \"Some college/AA\", 5: \"College\", \n",
    "                                       7: \"Refused\", 9: \"Don't know\"})\n",
    "da[\"DMDMARTLx\"] = da.DMDMARTL.replace({1: \"Married\", 2: \"Widowed\", 3: \"Divorced\", 4: \"Separated\", 5: \"Never married\",\n",
    "                                      6: \"Living w/partner\", 77: \"Refused\"})\n",
    "db = da.loc[(da.DMDEDUC2x != \"Don't know\") & (da.DMDMARTLx != \"Refused\"), :]"
   ]
  },
  {
   "cell_type": "markdown",
   "id": "012df21c",
   "metadata": {},
   "source": [
    "Now we can create a contingency table, counting the number of people in each cell defined by a combination of education and marital status."
   ]
  },
  {
   "cell_type": "code",
   "execution_count": null,
   "id": "32071465",
   "metadata": {},
   "outputs": [],
   "source": [
    "x = pd.crosstab(db.DMDEDUC2x, da.DMDMARTLx)\n",
    "x"
   ]
  },
  {
   "cell_type": "markdown",
   "id": "a9731a63",
   "metadata": {},
   "source": [
    "The results will be easier to interpret if we normalize the data.  A contingency table can be normalized in three ways -- we can make the rows sum to 1, the columns sum to 1, or the whole table sum to 1.  Below we normalize within rows.  This gives us the proportion of people in each educational attainment category who fall into each group of the marital status variable.\n",
    "\n",
    "The modal (most common) marital status for people within each educational attainment group is \"married\".  However quantitatively, the proportion of people who are married varies substantially, and is notably higher for college graduates (around 61%) compared to groups with lower educational attainment."
   ]
  },
  {
   "cell_type": "code",
   "execution_count": null,
   "id": "1c704e37",
   "metadata": {},
   "outputs": [],
   "source": [
    "x.apply(lambda z: z/z.sum(), axis=1)"
   ]
  },
  {
   "cell_type": "markdown",
   "id": "0588b771",
   "metadata": {},
   "source": [
    "We can also normalize within the columns instead of normalizing within the rows.  This gives us the proportion of people with each marital status group who have each level of educational attainment."
   ]
  },
  {
   "cell_type": "code",
   "execution_count": null,
   "id": "8afb7388",
   "metadata": {},
   "outputs": [],
   "source": [
    "x.apply(lambda z: z/z.sum(), axis=0)"
   ]
  },
  {
   "cell_type": "markdown",
   "id": "39eb092d",
   "metadata": {},
   "source": [
    "We see here that the plurality of divorced people have some college but have not graduated from college, while the plurality of married people are college graduates.\n",
    "\n",
    "It is quite plausible that there are gender differences in the relationship between educational attainment and marital status.  Therefore we can look at the proportion of people in each marital status category, for each combination of the gender and education variables.  This analyses yields some interesting trends, notably that women are much more likely to be widowed or divorced than men (e.g. women in the HS/GED group are around 3 times more likely to be widowed than men in the HS/GED group)."
   ]
  },
  {
   "cell_type": "code",
   "execution_count": null,
   "id": "6e561ab2",
   "metadata": {},
   "outputs": [],
   "source": [
    "# The following line does these steps, reading the code from left to right:\n",
    "# 1 Group the data by every combination of gender, education, and marital status\n",
    "# 2 Count the number of people in each cell using the 'size' method\n",
    "# 3 Pivot the marital status results into the columns (using unstack)\n",
    "# 4 Fill any empty cells with 0\n",
    "# 5 Normalize the data by row\n",
    "db.groupby([\"RIAGENDRx\", \"DMDEDUC2x\", \"DMDMARTLx\"]).size().unstack().fillna(0).apply(lambda x: x/x.sum(), axis=1)"
   ]
  },
  {
   "cell_type": "markdown",
   "id": "476959e7",
   "metadata": {},
   "source": [
    "One factor behind the greater number of women who are divorced and widowed could be that women live longer than men.  To minimize the impact of this factor, we can recalculate the above table using a few narrow bands of ages. To simplify here, we collapse the marital status data to characterize people as being either \"married\" or \"unmarried\"  This allows us to focus on the marriage rate, which is a widely-studied variable in social science research.\n",
    "\n",
    "There are a number of intriguing results here.  For example, the marriage rate seems to drop as college-educated people get older (e.g. 71% of college educated women between 49 and 50 are married, but only 65% of college educated women between 50 and 59 are married, an even larger drop occurs for men).  However in people with a HS/GED level of education, the marriage rate is higher for older people (although it is lower compared to the college educated sample).  There are a number of possible explanations for this, for example, that remarriage after divorce is less common among college graduates."
   ]
  },
  {
   "cell_type": "code",
   "execution_count": null,
   "id": "9b091e1e",
   "metadata": {},
   "outputs": [],
   "source": [
    "dx = db.loc[(db.RIDAGEYR >= 40) & (db.RIDAGEYR < 50)]\n",
    "a = dx.groupby([\"RIAGENDRx\", \"DMDEDUC2x\", \"DMDMARTLx\"]).size().unstack().fillna(0).apply(lambda x: x/x.sum(), axis=1)\n",
    "\n",
    "dx = db.loc[(db.RIDAGEYR >= 50) & (db.RIDAGEYR < 60)]\n",
    "b = dx.groupby([\"RIAGENDRx\", \"DMDEDUC2x\", \"DMDMARTLx\"]).size().unstack().fillna(0).apply(lambda x: x/x.sum(), axis=1)\n",
    "\n",
    "print(a.loc[:, [\"Married\"]].unstack())\n",
    "print(\"\")\n",
    "print(b.loc[:, [\"Married\"]].unstack())"
   ]
  },
  {
   "cell_type": "markdown",
   "id": "17104842",
   "metadata": {},
   "source": [
    "We conclude this section by noting that marital status is associated with many factors, including gender and eduational status, but also varies strongly by age and birth cohort.  For example, it is unlikely for young people to be widowed, and it is less likely for older people to be \"never married\", since a person can transition from \"never married\" into one of the other categories, but can never move back.  Below we will consider the role of age in more detail, and later in the course we will revisit these questions using more sophisticated analytic methods that can account for all of these factors simultaneously.  However, since NHANES is a cross-sectional study, there are certain important questions that it cannot be used to answer.  For example, while we know each person's current marital status, we do not know their full marital history (e.g. how many times and at what ages they were married or divorced)."
   ]
  },
  {
   "cell_type": "markdown",
   "id": "7042d076",
   "metadata": {},
   "source": [
    "### Mixed categorical and quantitative data\n",
    "\n",
    "Another situation that commonly arises in data analysis is when we wish to analyze bivariate data consisting of one quantitative and one categorical variable. To illustrate methods that can be used in this setting, we consider the relationship between marital status and age in the NHANES data.  Specifically, we consider the distribution of ages for people who are currently in each marital status category.  A natural tool in this setting is side-by-side boxplots.  Here we see some unsurprising things -- widowed people tend to be older, and never-married people tend to be younger."
   ]
  },
  {
   "cell_type": "code",
   "execution_count": null,
   "id": "fa65f37e",
   "metadata": {},
   "outputs": [],
   "source": [
    "plt.figure(figsize=(12, 4))\n",
    "a = sns.boxplot(db.DMDMARTLx, db.RIDAGEYR)"
   ]
  },
  {
   "cell_type": "markdown",
   "id": "220c41f4",
   "metadata": {},
   "source": [
    "When we have enough data, a \"violinplot\" gives a bit more insight into the shapes of the distributions compared to a traditional boxplot.  The violinplot below is based on the same data as the boxplot above.  We can see quite clearly that the distributions with low mean (living with partner, never married) are strongly right-skewed, while the distribution with high mean (widowed) is strongly left-skewed.  The other distributions have intermediate mean values, and are approximately symmetrically distributed.  Note also that the never-married distribution has a long shoulder, suggesting that this distributions includes many people who are never-married because they are young, and have not yet reached the ages when people typically marry, but also a substantial number of people will marry for the first time anywhere from their late 30's to their mid-60's."
   ]
  },
  {
   "cell_type": "code",
   "execution_count": null,
   "id": "3acf04db",
   "metadata": {},
   "outputs": [],
   "source": [
    "plt.figure(figsize=(12, 4))\n",
    "a = sns.violinplot(da.DMDMARTLx, da.RIDAGEYR)"
   ]
  }
 ],
 "metadata": {
  "kernelspec": {
   "display_name": "Python 3",
   "language": "python",
   "name": "python3"
  },
  "language_info": {
   "codemirror_mode": {
    "name": "ipython",
    "version": 3
   },
   "file_extension": ".py",
   "mimetype": "text/x-python",
   "name": "python",
   "nbconvert_exporter": "python",
   "pygments_lexer": "ipython3",
   "version": "3.8.8"
  }
 },
 "nbformat": 4,
 "nbformat_minor": 5
}
